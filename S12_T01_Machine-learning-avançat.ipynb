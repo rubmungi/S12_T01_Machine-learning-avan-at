{
 "cells": [
  {
   "cell_type": "markdown",
   "id": "e8425a9a",
   "metadata": {},
   "source": [
    "# S12 T01: Pipelines, grid search i text mining"
   ]
  },
  {
   "cell_type": "code",
   "execution_count": 78,
   "id": "25fb60cb",
   "metadata": {},
   "outputs": [
    {
     "name": "stderr",
     "output_type": "stream",
     "text": [
      "[nltk_data] Downloading package punkt to /home/rusi/nltk_data...\n",
      "[nltk_data]   Package punkt is already up-to-date!\n",
      "[nltk_data] Downloading package stopwords to /home/rusi/nltk_data...\n",
      "[nltk_data]   Package stopwords is already up-to-date!\n"
     ]
    }
   ],
   "source": [
    "import numpy as np\n",
    "import pandas as pd\n",
    "import matplotlib.pyplot as plt\n",
    "import category_encoders as ce\n",
    "from sklearn.preprocessing import LabelEncoder\n",
    "from sklearn.preprocessing import OrdinalEncoder\n",
    "from sklearn import preprocessing\n",
    "from sklearn.preprocessing import StandardScaler\n",
    "from sklearn.linear_model import LinearRegression\n",
    "from sklearn.ensemble import  RandomForestRegressor\n",
    "from sklearn.model_selection import train_test_split\n",
    "from sklearn.metrics import mean_squared_error\n",
    "from sklearn.compose import ColumnTransformer \n",
    "from sklearn.impute import SimpleImputer\n",
    "from sklearn.pipeline import Pipeline\n",
    "from sklearn.pipeline import make_pipeline\n",
    "from sklearn.compose import make_column_transformer\n",
    "from sklearn.compose import make_column_selector\n",
    "from sklearn.preprocessing import MinMaxScaler\n",
    "from sklearn.preprocessing import Normalizer\n",
    "from sklearn.base import BaseEstimator, TransformerMixin\n",
    "from sklearn.utils import check_array\n",
    "from scipy import sparse\n",
    "from sklearn import datasets\n",
    "from sklearn.linear_model import Ridge\n",
    "from sklearn.model_selection import GridSearchCV\n",
    "from sklearn.base import BaseEstimator\n",
    "from sklearn.compose import ColumnTransformer \n",
    "from sklearn.impute import SimpleImputer\n",
    "from sklearn.pipeline import Pipeline\n",
    "from sklearn.model_selection import RandomizedSearchCV\n",
    "import nltk\n",
    "from nltk.tokenize import word_tokenize\n",
    "from nltk.probability import FreqDist\n",
    "from nltk.corpus import stopwords\n",
    "from nltk.stem import PorterStemmer\n",
    "import nltk\n",
    "nltk.download('punkt')\n",
    "nltk.download('stopwords')\n",
    "from nltk import sent_tokenize\n",
    "from textblob import TextBlob"
   ]
  },
  {
   "cell_type": "markdown",
   "id": "e3112736",
   "metadata": {},
   "source": [
    "## Exercici 1. Agafa el conjunt de dades que vulguis i realitza un pipeline i un gridsearch aplicant l'algorisme de Random Forest."
   ]
  },
  {
   "cell_type": "markdown",
   "id": "e38240df",
   "metadata": {},
   "source": [
    "De l'Sprint07, carreguem les dades netes, sense nuls, amb l'històric de jugadors de la selecció espanyola de futbol absoluta masculina que han debutat (obtingudes a partir de la web bdfutbol.com). Recordem els noms de les columnes:\n",
    "\n",
    "Sobrenom; Nom; Data Naixement; Lloc de Naixament; Província; País; Partits Jugats; Partits Titular; Partits Complets; Partits Suplent; Partits Substituït; Partits Convocats (sense jugar); Partits Guanyats; Partits Empetats; Partits Perduts; Minuts; Goles; Gols Penalt; Goles pròpia porta; Gols Encaixats; Targetes grogues; Targetes vermelles; Edat inicial; Edat final; Alçada; Pes"
   ]
  },
  {
   "cell_type": "code",
   "execution_count": 2,
   "id": "ad278d03",
   "metadata": {},
   "outputs": [],
   "source": [
    "jugadors = pd.read_csv('//home/rusi/Escritorio/rubenIT/DataSources/jugadores00.csv')#importem i li assignem un nom de dataframe"
   ]
  },
  {
   "cell_type": "code",
   "execution_count": 3,
   "id": "4cf44866",
   "metadata": {},
   "outputs": [
    {
     "name": "stdout",
     "output_type": "stream",
     "text": [
      "               PJ          PT          PC          PS          PX          PG  \\\n",
      "count  654.000000  654.000000  654.000000  654.000000  654.000000  654.000000   \n",
      "mean    14.155963   11.085627    8.006116    3.070336    3.056575    8.391437   \n",
      "std     22.460518   19.330256   14.271486    5.229901    7.115855   15.330149   \n",
      "min      1.000000    0.000000    0.000000    0.000000    0.000000    0.000000   \n",
      "25%      2.000000    1.000000    1.000000    0.000000    0.000000    1.000000   \n",
      "50%      5.000000    4.000000    3.000000    1.000000    1.000000    3.000000   \n",
      "75%     16.000000   12.000000    9.000000    3.000000    3.000000    9.000000   \n",
      "max    180.000000  161.000000  125.000000   42.000000   59.000000  131.000000   \n",
      "\n",
      "               PE          PP           Min           G          GP  \\\n",
      "count  654.000000  654.000000    654.000000  654.000000  654.000000   \n",
      "mean     3.333333    2.431193   1005.507645    1.960245    0.142202   \n",
      "std      4.831199    3.607972   1669.924268    5.165109    0.873092   \n",
      "min      0.000000    0.000000      1.000000    0.000000    0.000000   \n",
      "25%      0.000000    0.000000     90.000000    0.000000    0.000000   \n",
      "50%      1.000000    1.000000    360.000000    0.000000    0.000000   \n",
      "75%      4.000000    3.000000   1129.250000    1.000000    0.000000   \n",
      "max     33.000000   23.000000  13709.000000   59.000000   11.000000   \n",
      "\n",
      "              GPP          GE          TA          TR          EI          EF  \\\n",
      "count  654.000000  654.000000  654.000000  654.000000  654.000000  654.000000   \n",
      "mean     0.019878    0.905199    0.917431    0.032110   23.949541   26.831804   \n",
      "std      0.139687    6.868723    2.419149    0.184904    2.782392    3.488660   \n",
      "min      0.000000    0.000000    0.000000    0.000000   17.000000   17.000000   \n",
      "25%      0.000000    0.000000    0.000000    0.000000   22.000000   25.000000   \n",
      "50%      0.000000    0.000000    0.000000    0.000000   24.000000   27.000000   \n",
      "75%      0.000000    0.000000    1.000000    0.000000   26.000000   29.000000   \n",
      "max      1.000000  100.000000   24.000000    2.000000   34.000000   36.000000   \n",
      "\n",
      "           Altura        Peso  \n",
      "count  654.000000  654.000000  \n",
      "mean   177.594801   73.915902  \n",
      "std      6.021862    5.713472  \n",
      "min    160.000000   60.000000  \n",
      "25%    173.000000   70.000000  \n",
      "50%    178.000000   74.000000  \n",
      "75%    181.750000   77.000000  \n",
      "max    197.000000   95.000000  \n",
      "            Apodo                       Nombre       Fecha             Ciudad  \\\n",
      "0    Marcos Vales         Marcos Vales Illanes  05/04/1975           A Coruña   \n",
      "1           Acuña              Juan Acuña Naya  13/02/1923           A Coruña   \n",
      "2          Martín  José María Martín Rodríguez  25/04/1924           A Coruña   \n",
      "3         Casilla     Francisco Casilla Cortés  02/10/1986            Alcover   \n",
      "4    Juan Sánchez    Juan Ginés Sánchez Romero  15/05/1972             Aldaia   \n",
      "5       Cucurella        Marc Cucurella Saseta  22/07/1998             Alella   \n",
      "6          Piquer          Vicente Piquer Mora  24/02/1935  Algar de Palancia   \n",
      "7             Ito        Antonio Álvarez Pérez  21/01/1975       Almendralejo   \n",
      "8       Planas II           Javier Planas Abad  03/07/1949          Almudévar   \n",
      "9  Josep Martínez         Josep Martínez Riera  27/05/1998             Alzira   \n",
      "\n",
      "   Provincia    País  PJ  PT  PC  PS  ...  G  GP  GPP  GE  TA  TR  EI  EF  \\\n",
      "0   A Coruña  España   1   0   0   1  ...  0   0    0   0   0   0  23  23   \n",
      "1   A Coruña  España   1   0   0   1  ...  0   0    0   1   0   0  18  18   \n",
      "2   A Coruña  España   1   1   1   0  ...  0   0    0   0   0   0  28  28   \n",
      "3  Tarragona  España   1   0   0   1  ...  0   0    0   1   0   0  28  28   \n",
      "4   Valencia  España   1   0   0   1  ...  0   0    0   0   0   0  26  26   \n",
      "5  Barcelona  España   1   1   0   0  ...  0   0    0   0   0   0  22  22   \n",
      "6   Valencia  España   1   1   1   0  ...  0   0    0   0   0   0  26  26   \n",
      "7    Badajoz  España   1   0   0   1  ...  0   0    0   0   0   0  23  23   \n",
      "8     Huesca  España   1   1   1   0  ...  0   0    0   0   1   0  25  25   \n",
      "9   Valencia  España   1   0   0   1  ...  0   0    0   0   0   0  23  23   \n",
      "\n",
      "   Altura  Peso  \n",
      "0   181.0  77.0  \n",
      "1   179.0  88.0  \n",
      "2   176.0  74.0  \n",
      "3   192.0  83.0  \n",
      "4   173.0  72.0  \n",
      "5   172.0  68.0  \n",
      "6   173.0  71.0  \n",
      "7   175.0  70.0  \n",
      "8   174.0  74.0  \n",
      "9   191.0  78.0  \n",
      "\n",
      "[10 rows x 25 columns]\n",
      "               Apodo                     Nombre       Fecha           Ciudad  \\\n",
      "644         Fàbregas    Francesc Fàbregas Soler  04/05/1987    Arenys de Mar   \n",
      "645  Fernando Torres  Fernando José Torres Sanz  20/03/1984      Fuenlabrada   \n",
      "646      Xabi Alonso        Xabier Alonso Olano  25/11/1981           Tolosa   \n",
      "647            Silva  David Josué Jiménez Silva  08/01/1986      Arguineguín   \n",
      "648      Zubizarreta  Andoni Zubizarreta Urreta  23/10/1961  Vitoria-Gasteiz   \n",
      "649          Iniesta       Andrés Iniesta Luján  11/05/1984    Fuentealbilla   \n",
      "650         Busquets     Sergio Busquets Burgos  16/07/1988         Sabadell   \n",
      "651             Xavi     Xavier Hernández Creus  25/01/1980         Terrassa   \n",
      "652         Casillas    Iker Casillas Fernández  20/05/1981         Móstoles   \n",
      "653     Sergio Ramos        Sergio Ramos García  30/03/1986            Camas   \n",
      "\n",
      "       Provincia    País   PJ   PT   PC  PS  ...   G  GP  GPP   GE  TA  TR  \\\n",
      "644    Barcelona  España  110   68   22  42  ...  15   0    0    0  15   0   \n",
      "645       Madrid  España  110   75   21  35  ...  38   5    0    0   4   0   \n",
      "646     Gipuzkoa  España  114   86   48  28  ...  16   6    0    0  10   1   \n",
      "647   Las Palmas  España  125   96   37  29  ...  35   2    0    0  10   0   \n",
      "648  Araba/Álava  España  126  125  106   1  ...   0   0    1  100   2   1   \n",
      "649     Albacete  España  131  105   47  26  ...  13   1    0    0   4   0   \n",
      "650    Barcelona  España  133  119   89  14  ...   2   0    0    0  23   0   \n",
      "651    Barcelona  España  133  108   64  25  ...  13   0    0    0   9   0   \n",
      "652       Madrid  España  167  154  125  13  ...   0   0    0   93   2   0   \n",
      "653      Sevilla  España  180  161  118  19  ...  23   8    0    0  24   0   \n",
      "\n",
      "     EI  EF  Altura  Peso  \n",
      "644  18  29   180.0  77.0  \n",
      "645  19  30   186.0  78.0  \n",
      "646  21  32   183.0  75.0  \n",
      "647  20  32   170.0  67.0  \n",
      "648  23  36   187.0  86.0  \n",
      "649  22  34   171.0  68.0  \n",
      "650  20  32   189.0  76.0  \n",
      "651  20  34   170.0  68.0  \n",
      "652  19  35   182.0  80.0  \n",
      "653  18  34   184.0  83.0  \n",
      "\n",
      "[10 rows x 25 columns]\n"
     ]
    }
   ],
   "source": [
    "#Imprimim les dades filtrades per comprovar la importació\n",
    "print(jugadors.describe())\n",
    "print(jugadors.head(10))\n",
    "print(jugadors.tail(10))"
   ]
  },
  {
   "cell_type": "markdown",
   "id": "159bfe64",
   "metadata": {},
   "source": [
    "## Pipeline"
   ]
  },
  {
   "cell_type": "markdown",
   "id": "09714d07",
   "metadata": {},
   "source": [
    "**1) Building a prototype**\n",
    "Construïm el prototipus, millorant les dades del dataframe. Prescindirem dels features \"Apodo\", \"Nombre\", \"Fecha\" i \"Ciudad\", i convertirem en números \"Provincia\" i \"País\"."
   ]
  },
  {
   "cell_type": "markdown",
   "id": "ffa4609e",
   "metadata": {},
   "source": [
    "**1.1) Encode the categorical variables.**"
   ]
  },
  {
   "cell_type": "code",
   "execution_count": 4,
   "id": "4a27a700",
   "metadata": {},
   "outputs": [],
   "source": [
    "jugadors00=jugadors"
   ]
  },
  {
   "cell_type": "code",
   "execution_count": 5,
   "id": "f0c62c90",
   "metadata": {},
   "outputs": [],
   "source": [
    "# create an object of the OneHotEncoder\n",
    "OHE = ce.OneHotEncoder(cols=[\"Provincia\",\"País\"],use_cat_names=True)\n",
    "# encode the categorical variables\n",
    "jugadors00 = OHE.fit_transform(jugadors00)"
   ]
  },
  {
   "cell_type": "code",
   "execution_count": 6,
   "id": "612a5a1b",
   "metadata": {},
   "outputs": [
    {
     "name": "stdout",
     "output_type": "stream",
     "text": [
      "          Apodo                       Nombre       Fecha    Ciudad  \\\n",
      "0  Marcos Vales         Marcos Vales Illanes  05/04/1975  A Coruña   \n",
      "1         Acuña              Juan Acuña Naya  13/02/1923  A Coruña   \n",
      "2        Martín  José María Martín Rodríguez  25/04/1924  A Coruña   \n",
      "3       Casilla     Francisco Casilla Cortés  02/10/1986   Alcover   \n",
      "4  Juan Sánchez    Juan Ginés Sánchez Romero  15/05/1972    Aldaia   \n",
      "\n",
      "   Provincia_A Coruña  Provincia_Tarragona  Provincia_Valencia  \\\n",
      "0                   1                    0                   0   \n",
      "1                   1                    0                   0   \n",
      "2                   1                    0                   0   \n",
      "3                   0                    1                   0   \n",
      "4                   0                    0                   1   \n",
      "\n",
      "   Provincia_Barcelona  Provincia_Badajoz  Provincia_Huesca  ...  G  GP  GPP  \\\n",
      "0                    0                  0                 0  ...  0   0    0   \n",
      "1                    0                  0                 0  ...  0   0    0   \n",
      "2                    0                  0                 0  ...  0   0    0   \n",
      "3                    0                  0                 0  ...  0   0    0   \n",
      "4                    0                  0                 0  ...  0   0    0   \n",
      "\n",
      "   GE  TA  TR  EI  EF  Altura  Peso  \n",
      "0   0   0   0  23  23   181.0  77.0  \n",
      "1   1   0   0  18  18   179.0  88.0  \n",
      "2   0   0   0  28  28   176.0  74.0  \n",
      "3   1   0   0  28  28   192.0  83.0  \n",
      "4   0   0   0  26  26   173.0  72.0  \n",
      "\n",
      "[5 rows x 90 columns]\n",
      "<class 'pandas.core.frame.DataFrame'>\n",
      "RangeIndex: 654 entries, 0 to 653\n",
      "Data columns (total 90 columns):\n",
      " #   Column                            Non-Null Count  Dtype  \n",
      "---  ------                            --------------  -----  \n",
      " 0   Apodo                             654 non-null    object \n",
      " 1   Nombre                            654 non-null    object \n",
      " 2   Fecha                             654 non-null    object \n",
      " 3   Ciudad                            654 non-null    object \n",
      " 4   Provincia_A Coruña                654 non-null    int64  \n",
      " 5   Provincia_Tarragona               654 non-null    int64  \n",
      " 6   Provincia_Valencia                654 non-null    int64  \n",
      " 7   Provincia_Barcelona               654 non-null    int64  \n",
      " 8   Provincia_Badajoz                 654 non-null    int64  \n",
      " 9   Provincia_Huesca                  654 non-null    int64  \n",
      " 10  Provincia_Bizkaia                 654 non-null    int64  \n",
      " 11  Provincia_Málaga                  654 non-null    int64  \n",
      " 12  Provincia_La Rioja                654 non-null    int64  \n",
      " 13  Provincia_Gipuzkoa                654 non-null    int64  \n",
      " 14  Provincia_Extranjero              654 non-null    int64  \n",
      " 15  Provincia_Burgos                  654 non-null    int64  \n",
      " 16  Provincia_Cádiz                   654 non-null    int64  \n",
      " 17  Provincia_Murcia                  654 non-null    int64  \n",
      " 18  Provincia_Zamora                  654 non-null    int64  \n",
      " 19  Provincia_Ceuta                   654 non-null    int64  \n",
      " 20  Provincia_Cáceres                 654 non-null    int64  \n",
      " 21  Provincia_Alicante                654 non-null    int64  \n",
      " 22  Provincia_León                    654 non-null    int64  \n",
      " 23  Provincia_Segovia                 654 non-null    int64  \n",
      " 24  Provincia_Asturias                654 non-null    int64  \n",
      " 25  Provincia_Granada                 654 non-null    int64  \n",
      " 26  Provincia_Palencia                654 non-null    int64  \n",
      " 27  Provincia_Huelva                  654 non-null    int64  \n",
      " 28  Provincia_Sevilla                 654 non-null    int64  \n",
      " 29  Provincia_Jaén                    654 non-null    int64  \n",
      " 30  Provincia_Santa Cruz de Tenerife  654 non-null    int64  \n",
      " 31  Provincia_Cantabria               654 non-null    int64  \n",
      " 32  Provincia_Las Palmas              654 non-null    int64  \n",
      " 33  Provincia_Lleida                  654 non-null    int64  \n",
      " 34  Provincia_Madrid                  654 non-null    int64  \n",
      " 35  Provincia_Toledo                  654 non-null    int64  \n",
      " 36  Provincia_Córdoba                 654 non-null    int64  \n",
      " 37  Provincia_Navarra                 654 non-null    int64  \n",
      " 38  Provincia_Lugo                    654 non-null    int64  \n",
      " 39  Provincia_Salamanca               654 non-null    int64  \n",
      " 40  Provincia_Pontevedra              654 non-null    int64  \n",
      " 41  Provincia_Valladolid              654 non-null    int64  \n",
      " 42  Provincia_Araba/Álava             654 non-null    int64  \n",
      " 43  Provincia_Zaragoza                654 non-null    int64  \n",
      " 44  Provincia_Albacete                654 non-null    int64  \n",
      " 45  Provincia_Almería                 654 non-null    int64  \n",
      " 46  Provincia_Castellón               654 non-null    int64  \n",
      " 47  Provincia_Melilla                 654 non-null    int64  \n",
      " 48  Provincia_Girona                  654 non-null    int64  \n",
      " 49  Provincia_Ciudad Real             654 non-null    int64  \n",
      " 50  Provincia_Teruel                  654 non-null    int64  \n",
      " 51  Provincia_Fernando Poo            654 non-null    int64  \n",
      " 52  Provincia_Soria                   654 non-null    int64  \n",
      " 53  Provincia_Islas Baleares          654 non-null    int64  \n",
      " 54  Provincia_Ourense                 654 non-null    int64  \n",
      " 55  Provincia_Ávila                   654 non-null    int64  \n",
      " 56  País_España                       654 non-null    int64  \n",
      " 57  País_Argentina                    654 non-null    int64  \n",
      " 58  País_Paraguay                     654 non-null    int64  \n",
      " 59  País_Suiza                        654 non-null    int64  \n",
      " 60  País_Italia                       654 non-null    int64  \n",
      " 61  País_Brasil                       654 non-null    int64  \n",
      " 62  País_Francia                      654 non-null    int64  \n",
      " 63  País_Dinamarca                    654 non-null    int64  \n",
      " 64  País_Guinea-Bisáu                 654 non-null    int64  \n",
      " 65  País_Hungría                      654 non-null    int64  \n",
      " 66  País_Guinea Ecuatorial            654 non-null    int64  \n",
      " 67  País_Marruecos                    654 non-null    int64  \n",
      " 68  País_Alemania                     654 non-null    int64  \n",
      " 69  País_Mauritania                   654 non-null    int64  \n",
      " 70  País_Uruguay                      654 non-null    int64  \n",
      " 71  PJ                                654 non-null    int64  \n",
      " 72  PT                                654 non-null    int64  \n",
      " 73  PC                                654 non-null    int64  \n",
      " 74  PS                                654 non-null    int64  \n",
      " 75  PX                                654 non-null    int64  \n",
      " 76  PG                                654 non-null    int64  \n",
      " 77  PE                                654 non-null    int64  \n",
      " 78  PP                                654 non-null    int64  \n",
      " 79  Min                               654 non-null    int64  \n",
      " 80  G                                 654 non-null    int64  \n",
      " 81  GP                                654 non-null    int64  \n",
      " 82  GPP                               654 non-null    int64  \n",
      " 83  GE                                654 non-null    int64  \n",
      " 84  TA                                654 non-null    int64  \n",
      " 85  TR                                654 non-null    int64  \n",
      " 86  EI                                654 non-null    int64  \n",
      " 87  EF                                654 non-null    int64  \n",
      " 88  Altura                            654 non-null    float64\n",
      " 89  Peso                              654 non-null    float64\n",
      "dtypes: float64(2), int64(84), object(4)\n",
      "memory usage: 460.0+ KB\n",
      "None\n"
     ]
    }
   ],
   "source": [
    "print(jugadors00.head())\n",
    "print(jugadors00.info())"
   ]
  },
  {
   "cell_type": "markdown",
   "id": "2b76564f",
   "metadata": {},
   "source": [
    "El nou dataframe té 90 columnes, cosa que és massa nombrós pel nostre anàlisi. En comptes de fer-ho amb dummies, donarem valors númèrics a \"Provincia\" i \"País\" directament."
   ]
  },
  {
   "cell_type": "code",
   "execution_count": 7,
   "id": "e620e47f",
   "metadata": {},
   "outputs": [],
   "source": [
    "number=LabelEncoder()\n",
    "jugadors=jugadors.drop([\"Apodo\",\"Nombre\",\"Fecha\",\"Ciudad\"],axis=1)\n",
    "jugadors[\"Provincia\"]=number.fit_transform(jugadors[\"Provincia\"].astype(\"str\"))\n",
    "jugadors[\"País\"]=number.fit_transform(jugadors[\"País\"].astype(\"str\"))"
   ]
  },
  {
   "cell_type": "code",
   "execution_count": 8,
   "id": "5cce5cc2",
   "metadata": {},
   "outputs": [
    {
     "name": "stdout",
     "output_type": "stream",
     "text": [
      "    Provincia  País  PJ  PT  PC  PS  PX  PG  PE  PP  ...  G  GP  GPP  GE  TA  \\\n",
      "0           0     4   1   0   0   1   0   1   0   0  ...  0   0    0   0   0   \n",
      "1           0     4   1   0   0   1   0   1   0   0  ...  0   0    0   1   0   \n",
      "2           0     4   1   1   1   0   0   1   0   0  ...  0   0    0   0   0   \n",
      "3          44     4   1   0   0   1   0   0   0   1  ...  0   0    0   1   0   \n",
      "4          47     4   1   0   0   1   0   0   1   0  ...  0   0    0   0   0   \n",
      "5           7     4   1   1   0   0   1   1   0   0  ...  0   0    0   0   0   \n",
      "6          47     4   1   1   1   0   0   0   1   0  ...  0   0    0   0   0   \n",
      "7           6     4   1   0   0   1   0   1   0   0  ...  0   0    0   0   0   \n",
      "8          23     4   1   1   1   0   0   1   0   0  ...  0   0    0   0   1   \n",
      "9          47     4   1   0   0   1   0   1   0   0  ...  0   0    0   0   0   \n",
      "10          8     4   1   1   1   0   0   1   0   0  ...  0   0    0   0   0   \n",
      "11         34     4   1   0   0   1   0   0   0   1  ...  0   0    0   0   0   \n",
      "12         26     4   1   1   0   0   1   1   0   0  ...  0   0    0   0   0   \n",
      "13         26     4   1   0   0   1   0   1   0   0  ...  0   0    0   0   0   \n",
      "14          8     4   1   1   1   0   0   0   0   1  ...  0   0    0   0   0   \n",
      "15         19     4   1   1   1   0   0   0   1   0  ...  0   0    0   0   0   \n",
      "16         19     4   1   0   0   1   0   0   0   1  ...  0   0    0   0   0   \n",
      "17         19     4   1   1   1   0   0   0   0   1  ...  0   0    0   0   0   \n",
      "18          6     4   1   1   1   0   0   0   1   0  ...  0   0    0   0   0   \n",
      "19          8     4   1   0   0   1   0   0   0   1  ...  0   0    0   2   0   \n",
      "20          8     4   1   1   1   0   0   0   1   0  ...  0   0    0   0   0   \n",
      "21          7     4   1   0   0   1   0   1   0   0  ...  1   0    0   0   0   \n",
      "22          7     4   1   1   1   0   0   1   0   0  ...  0   0    0   1   0   \n",
      "23          7     4   1   1   1   0   0   1   0   0  ...  0   0    0   0   0   \n",
      "24          7     4   1   1   1   0   0   1   0   0  ...  0   0    0   1   0   \n",
      "25          7     4   1   1   1   0   0   0   0   1  ...  0   0    0   0   0   \n",
      "26          7     4   1   0   0   1   0   0   1   0  ...  0   0    0   0   0   \n",
      "27         47     4   1   1   1   0   0   0   0   1  ...  0   0    0   0   0   \n",
      "28          8     4   1   1   1   0   0   0   0   1  ...  0   0    0   0   0   \n",
      "29          8     4   1   0   0   1   0   1   0   0  ...  0   0    0   0   0   \n",
      "30          8     4   1   1   1   0   0   0   1   0  ...  0   0    0   0   0   \n",
      "31          8     4   1   1   1   0   0   0   0   1  ...  0   0    0   2   0   \n",
      "32         17     1   1   1   1   0   0   1   0   0  ...  0   0    0   0   0   \n",
      "33          9     4   1   0   0   1   0   1   0   0  ...  0   0    0   0   0   \n",
      "34         15     4   1   1   1   0   0   0   0   1  ...  0   0    0   0   0   \n",
      "35         26     4   1   0   0   1   0   0   0   1  ...  0   0    0   0   0   \n",
      "36         17    12   1   1   1   0   0   1   0   0  ...  0   0    0   0   0   \n",
      "37         33     4   1   0   0   1   0   1   0   0  ...  0   0    0   0   0   \n",
      "38         33     4   1   0   0   1   0   1   0   0  ...  0   0    0   0   0   \n",
      "39          7     4   1   0   0   1   0   1   0   0  ...  0   0    0   0   0   \n",
      "40         49     4   1   1   0   0   1   0   0   1  ...  0   0    0   0   0   \n",
      "41         47     4   1   1   0   0   1   0   1   0  ...  0   0    0   0   0   \n",
      "42         12     4   1   1   1   0   0   1   0   0  ...  0   0    0   0   0   \n",
      "43         34     4   1   1   0   0   1   0   0   1  ...  0   0    0   0   0   \n",
      "44         14     4   1   1   1   0   0   0   0   1  ...  0   0    0   4   0   \n",
      "45          8     4   1   0   0   1   0   1   0   0  ...  0   0    0   0   0   \n",
      "46          6     4   1   1   0   0   1   1   0   0  ...  0   0    0   0   1   \n",
      "47         19     4   1   1   0   0   1   1   0   0  ...  0   0    0   0   0   \n",
      "48         19     4   1   1   1   0   0   0   1   0  ...  0   0    0   0   0   \n",
      "49         19     4   1   0   0   1   0   1   0   0  ...  0   0    0   0   0   \n",
      "\n",
      "    TR  EI  EF  Altura  Peso  \n",
      "0    0  23  23   181.0  77.0  \n",
      "1    0  18  18   179.0  88.0  \n",
      "2    0  28  28   176.0  74.0  \n",
      "3    0  28  28   192.0  83.0  \n",
      "4    0  26  26   173.0  72.0  \n",
      "5    0  22  22   172.0  68.0  \n",
      "6    0  26  26   173.0  71.0  \n",
      "7    0  23  23   175.0  70.0  \n",
      "8    0  25  25   174.0  74.0  \n",
      "9    0  23  23   191.0  78.0  \n",
      "10   0  27  27   186.0  80.0  \n",
      "11   0  20  20   172.0  72.0  \n",
      "12   0  23  23   186.0  80.0  \n",
      "13   0  23  23   179.0  74.0  \n",
      "14   0  25  25   177.0  70.0  \n",
      "15   0  29  29   173.0  71.0  \n",
      "16   0  27  27   185.0  84.0  \n",
      "17   0  29  29   177.0  75.0  \n",
      "18   0  29  29   174.0  72.0  \n",
      "19   0  24  24   178.0  76.0  \n",
      "20   0  25  25   170.0  66.0  \n",
      "21   0  23  23   177.0  69.0  \n",
      "22   0  26  26   183.0  80.0  \n",
      "23   0  22  22   178.0  66.0  \n",
      "24   0  33  33   180.0  80.0  \n",
      "25   0  23  23   168.0  62.0  \n",
      "26   0  20  20   170.0  70.0  \n",
      "27   0  23  23   172.0  71.0  \n",
      "28   0  26  26   183.0  83.0  \n",
      "29   0  21  21   186.0  79.0  \n",
      "30   0  25  25   176.0  73.0  \n",
      "31   0  27  27   180.0  77.0  \n",
      "32   0  27  27   178.0  72.0  \n",
      "33   0  21  21   183.0  81.0  \n",
      "34   0  23  23   184.0  81.0  \n",
      "35   0  21  21   180.0  70.0  \n",
      "36   0  25  25   168.0  67.0  \n",
      "37   0  28  28   181.0  73.0  \n",
      "38   0  23  23   197.0  90.0  \n",
      "39   0  22  22   172.0  68.0  \n",
      "40   0  25  25   181.0  80.0  \n",
      "41   0  22  22   182.0  78.0  \n",
      "42   0  29  29   182.0  74.0  \n",
      "43   0  21  21   172.0  69.0  \n",
      "44   0  28  28   185.0  82.0  \n",
      "45   0  25  25   176.0  70.0  \n",
      "46   0  21  21   176.0  71.0  \n",
      "47   0  22  22   180.0  74.0  \n",
      "48   0  21  21   177.0  75.0  \n",
      "49   0  28  28   182.0  78.0  \n",
      "\n",
      "[50 rows x 21 columns]\n",
      "<class 'pandas.core.frame.DataFrame'>\n",
      "RangeIndex: 654 entries, 0 to 653\n",
      "Data columns (total 21 columns):\n",
      " #   Column     Non-Null Count  Dtype  \n",
      "---  ------     --------------  -----  \n",
      " 0   Provincia  654 non-null    int64  \n",
      " 1   País       654 non-null    int64  \n",
      " 2   PJ         654 non-null    int64  \n",
      " 3   PT         654 non-null    int64  \n",
      " 4   PC         654 non-null    int64  \n",
      " 5   PS         654 non-null    int64  \n",
      " 6   PX         654 non-null    int64  \n",
      " 7   PG         654 non-null    int64  \n",
      " 8   PE         654 non-null    int64  \n",
      " 9   PP         654 non-null    int64  \n",
      " 10  Min        654 non-null    int64  \n",
      " 11  G          654 non-null    int64  \n",
      " 12  GP         654 non-null    int64  \n",
      " 13  GPP        654 non-null    int64  \n",
      " 14  GE         654 non-null    int64  \n",
      " 15  TA         654 non-null    int64  \n",
      " 16  TR         654 non-null    int64  \n",
      " 17  EI         654 non-null    int64  \n",
      " 18  EF         654 non-null    int64  \n",
      " 19  Altura     654 non-null    float64\n",
      " 20  Peso       654 non-null    float64\n",
      "dtypes: float64(2), int64(19)\n",
      "memory usage: 107.4 KB\n",
      "None\n"
     ]
    }
   ],
   "source": [
    "print(jugadors.iloc[0:50,:])\n",
    "print(jugadors.info())"
   ]
  },
  {
   "cell_type": "markdown",
   "id": "bf190859",
   "metadata": {},
   "source": [
    "**1.2) Scale data**\n",
    "\n",
    "Podem escalar totes les columnes (entre 0 i 1), excepte \"Peso\", que el normalitzem (mitjana=0 i desviació=1). \"Altura\" és el target i no el tractem."
   ]
  },
  {
   "cell_type": "code",
   "execution_count": 9,
   "id": "3fdeae52",
   "metadata": {},
   "outputs": [],
   "source": [
    "#Estandarització i eliminació target \"Altura\"\n",
    "jugadors01 = jugadors.drop([\"Provincia\",\"País\",\"Peso\",\"Altura\"], axis=1)\n",
    "jugadors01_norm = (jugadors01-jugadors01.min())/(jugadors01.max()-jugadors01.min())\n",
    "#jugadors01_norm = jugadors.drop([\"Altura\"], axis=1)"
   ]
  },
  {
   "cell_type": "code",
   "execution_count": 10,
   "id": "de0717ee",
   "metadata": {},
   "outputs": [
    {
     "name": "stdout",
     "output_type": "stream",
     "text": [
      "    PJ        PT     PC       PS   PX        PG        PE        PP       Min  \\\n",
      "0  0.0  0.000000  0.000  0.02381  0.0  0.007634  0.000000  0.000000  0.000000   \n",
      "1  0.0  0.000000  0.000  0.02381  0.0  0.007634  0.000000  0.000000  0.001094   \n",
      "2  0.0  0.006211  0.008  0.00000  0.0  0.007634  0.000000  0.000000  0.006493   \n",
      "3  0.0  0.000000  0.000  0.02381  0.0  0.000000  0.000000  0.043478  0.000875   \n",
      "4  0.0  0.000000  0.000  0.02381  0.0  0.000000  0.030303  0.000000  0.000802   \n",
      "\n",
      "     G   GP  GPP    GE   TA   TR        EI        EF  \n",
      "0  0.0  0.0  0.0  0.00  0.0  0.0  0.352941  0.315789  \n",
      "1  0.0  0.0  0.0  0.01  0.0  0.0  0.058824  0.052632  \n",
      "2  0.0  0.0  0.0  0.00  0.0  0.0  0.647059  0.578947  \n",
      "3  0.0  0.0  0.0  0.01  0.0  0.0  0.647059  0.578947  \n",
      "4  0.0  0.0  0.0  0.00  0.0  0.0  0.529412  0.473684  \n",
      "<class 'pandas.core.frame.DataFrame'>\n",
      "RangeIndex: 654 entries, 0 to 653\n",
      "Data columns (total 17 columns):\n",
      " #   Column  Non-Null Count  Dtype  \n",
      "---  ------  --------------  -----  \n",
      " 0   PJ      654 non-null    float64\n",
      " 1   PT      654 non-null    float64\n",
      " 2   PC      654 non-null    float64\n",
      " 3   PS      654 non-null    float64\n",
      " 4   PX      654 non-null    float64\n",
      " 5   PG      654 non-null    float64\n",
      " 6   PE      654 non-null    float64\n",
      " 7   PP      654 non-null    float64\n",
      " 8   Min     654 non-null    float64\n",
      " 9   G       654 non-null    float64\n",
      " 10  GP      654 non-null    float64\n",
      " 11  GPP     654 non-null    float64\n",
      " 12  GE      654 non-null    float64\n",
      " 13  TA      654 non-null    float64\n",
      " 14  TR      654 non-null    float64\n",
      " 15  EI      654 non-null    float64\n",
      " 16  EF      654 non-null    float64\n",
      "dtypes: float64(17)\n",
      "memory usage: 87.0 KB\n",
      "None\n"
     ]
    }
   ],
   "source": [
    "print(jugadors01_norm.head())\n",
    "print(jugadors01_norm.info())"
   ]
  },
  {
   "cell_type": "code",
   "execution_count": 11,
   "id": "7479a9bc",
   "metadata": {},
   "outputs": [],
   "source": [
    "#Normalització\n",
    "jugadors02=jugadors.loc[:,[\"Provincia\",\"País\",\"Peso\"]]\n",
    "ss = StandardScaler()\n",
    "jugadors03 = ss.fit_transform(jugadors02.to_numpy())\n",
    "jugadors03 = pd.DataFrame(jugadors03, columns=[\"Provincia\",\"País\",\"Peso\"])"
   ]
  },
  {
   "cell_type": "code",
   "execution_count": 12,
   "id": "eeebad1b",
   "metadata": {},
   "outputs": [
    {
     "name": "stdout",
     "output_type": "stream",
     "text": [
      "   Provincia      País      Peso\n",
      "0  -1.524230 -0.070183  0.540207\n",
      "1  -1.524230 -0.070183  2.466955\n",
      "2  -1.524230 -0.070183  0.014730\n",
      "3   1.476060 -0.070183  1.591161\n",
      "4   1.680626 -0.070183 -0.335587\n",
      "<class 'pandas.core.frame.DataFrame'>\n",
      "RangeIndex: 654 entries, 0 to 653\n",
      "Data columns (total 3 columns):\n",
      " #   Column     Non-Null Count  Dtype  \n",
      "---  ------     --------------  -----  \n",
      " 0   Provincia  654 non-null    float64\n",
      " 1   País       654 non-null    float64\n",
      " 2   Peso       654 non-null    float64\n",
      "dtypes: float64(3)\n",
      "memory usage: 15.5 KB\n",
      "None\n"
     ]
    }
   ],
   "source": [
    "print(jugadors03.head())\n",
    "print(jugadors03.info())"
   ]
  },
  {
   "cell_type": "code",
   "execution_count": 13,
   "id": "0216c2e0",
   "metadata": {},
   "outputs": [
    {
     "name": "stderr",
     "output_type": "stream",
     "text": [
      "/tmp/ipykernel_42366/669182810.py:1: FutureWarning: In a future version of pandas all arguments of concat except for the argument 'objs' will be keyword-only\n",
      "  jugadors04 = pd.concat((jugadors01_norm,jugadors03.loc[:,[\"Provincia\",\"País\",\"Peso\"]]), 1)\n",
      "/tmp/ipykernel_42366/669182810.py:2: FutureWarning: In a future version of pandas all arguments of concat except for the argument 'objs' will be keyword-only\n",
      "  jugadors04= pd.concat((jugadors04,jugadors.loc[:,\"Altura\"]), 1)\n"
     ]
    }
   ],
   "source": [
    "jugadors04 = pd.concat((jugadors01_norm,jugadors03.loc[:,[\"Provincia\",\"País\",\"Peso\"]]), 1)\n",
    "jugadors04= pd.concat((jugadors04,jugadors.loc[:,\"Altura\"]), 1)"
   ]
  },
  {
   "cell_type": "code",
   "execution_count": 14,
   "id": "60e2661a",
   "metadata": {},
   "outputs": [
    {
     "name": "stdout",
     "output_type": "stream",
     "text": [
      "    PJ        PT     PC       PS   PX        PG        PE        PP       Min  \\\n",
      "0  0.0  0.000000  0.000  0.02381  0.0  0.007634  0.000000  0.000000  0.000000   \n",
      "1  0.0  0.000000  0.000  0.02381  0.0  0.007634  0.000000  0.000000  0.001094   \n",
      "2  0.0  0.006211  0.008  0.00000  0.0  0.007634  0.000000  0.000000  0.006493   \n",
      "3  0.0  0.000000  0.000  0.02381  0.0  0.000000  0.000000  0.043478  0.000875   \n",
      "4  0.0  0.000000  0.000  0.02381  0.0  0.000000  0.030303  0.000000  0.000802   \n",
      "\n",
      "     G  ...  GPP    GE   TA   TR        EI        EF  Provincia      País  \\\n",
      "0  0.0  ...  0.0  0.00  0.0  0.0  0.352941  0.315789  -1.524230 -0.070183   \n",
      "1  0.0  ...  0.0  0.01  0.0  0.0  0.058824  0.052632  -1.524230 -0.070183   \n",
      "2  0.0  ...  0.0  0.00  0.0  0.0  0.647059  0.578947  -1.524230 -0.070183   \n",
      "3  0.0  ...  0.0  0.01  0.0  0.0  0.647059  0.578947   1.476060 -0.070183   \n",
      "4  0.0  ...  0.0  0.00  0.0  0.0  0.529412  0.473684   1.680626 -0.070183   \n",
      "\n",
      "       Peso  Altura  \n",
      "0  0.540207   181.0  \n",
      "1  2.466955   179.0  \n",
      "2  0.014730   176.0  \n",
      "3  1.591161   192.0  \n",
      "4 -0.335587   173.0  \n",
      "\n",
      "[5 rows x 21 columns]\n",
      "<class 'pandas.core.frame.DataFrame'>\n",
      "RangeIndex: 654 entries, 0 to 653\n",
      "Data columns (total 21 columns):\n",
      " #   Column     Non-Null Count  Dtype  \n",
      "---  ------     --------------  -----  \n",
      " 0   PJ         654 non-null    float64\n",
      " 1   PT         654 non-null    float64\n",
      " 2   PC         654 non-null    float64\n",
      " 3   PS         654 non-null    float64\n",
      " 4   PX         654 non-null    float64\n",
      " 5   PG         654 non-null    float64\n",
      " 6   PE         654 non-null    float64\n",
      " 7   PP         654 non-null    float64\n",
      " 8   Min        654 non-null    float64\n",
      " 9   G          654 non-null    float64\n",
      " 10  GP         654 non-null    float64\n",
      " 11  GPP        654 non-null    float64\n",
      " 12  GE         654 non-null    float64\n",
      " 13  TA         654 non-null    float64\n",
      " 14  TR         654 non-null    float64\n",
      " 15  EI         654 non-null    float64\n",
      " 16  EF         654 non-null    float64\n",
      " 17  Provincia  654 non-null    float64\n",
      " 18  País       654 non-null    float64\n",
      " 19  Peso       654 non-null    float64\n",
      " 20  Altura     654 non-null    float64\n",
      "dtypes: float64(21)\n",
      "memory usage: 107.4 KB\n",
      "None\n"
     ]
    }
   ],
   "source": [
    "print(jugadors04.head())\n",
    "print(jugadors04.info())"
   ]
  },
  {
   "cell_type": "markdown",
   "id": "d07ee8d2",
   "metadata": {},
   "source": [
    "**1.3) Model building**\n",
    "\n",
    "Fem servir el model predictiu de regressió Random Forest, i trobem el RMSE (Root Mean Squared Error)."
   ]
  },
  {
   "cell_type": "code",
   "execution_count": 15,
   "id": "e3e104c9",
   "metadata": {},
   "outputs": [
    {
     "data": {
      "text/plain": [
       "((457, 20), (197, 20), (457,), (197,))"
      ]
     },
     "execution_count": 15,
     "metadata": {},
     "output_type": "execute_result"
    }
   ],
   "source": [
    "X = jugadors04.drop(columns=[\"Altura\"])\n",
    "y = jugadors04[\"Altura\"]\n",
    "\n",
    "# randomly split the data\n",
    "X, test_X, y, test_y = train_test_split(X,y,test_size=0.3,random_state=42)\n",
    "\n",
    "# shape of train and test splits\n",
    "X.shape, test_X.shape, y.shape, test_y.shape"
   ]
  },
  {
   "cell_type": "code",
   "execution_count": 16,
   "id": "713aee0c",
   "metadata": {},
   "outputs": [
    {
     "name": "stdout",
     "output_type": "stream",
     "text": [
      "RMSE on train data:  1.6242631713439897\n",
      "RMSE on test data:  3.6081435794826793\n"
     ]
    }
   ],
   "source": [
    "# create an object of the RandomForestRegressor\n",
    "model_RFR = RandomForestRegressor(max_depth=10)\n",
    "\n",
    "# fit the model with the training data\n",
    "model_RFR.fit(X, y)\n",
    "\n",
    "# predict the target on train and test data\n",
    "predict_train = model_RFR.predict(X)\n",
    "predict_test = model_RFR.predict(test_X)\n",
    "\n",
    "# Root Mean Squared Error on train and test data\n",
    "print('RMSE on train data: ', mean_squared_error(y, predict_train)**(0.5))\n",
    "print('RMSE on test data: ',  mean_squared_error(test_y, predict_test)**(0.5))"
   ]
  },
  {
   "cell_type": "markdown",
   "id": "475e2b52",
   "metadata": {},
   "source": [
    "**1.4) Feature Importance**\n",
    "\n",
    "Veiem quina és la importància de cada un dels atributs per predir el target \"Altura\"."
   ]
  },
  {
   "cell_type": "code",
   "execution_count": 17,
   "id": "7b0b0caf",
   "metadata": {},
   "outputs": [
    {
     "data": {
      "image/png": "[encoded data removed]",
      "text/plain": [
       "<Figure size 720x504 with 1 Axes>"
      ]
     },
     "metadata": {
      "needs_background": "light"
     },
     "output_type": "display_data"
    }
   ],
   "source": [
    "plt.figure(figsize=(10,7))\n",
    "feat_importances = pd.Series(model_RFR.feature_importances_, index = X.columns)\n",
    "feat_importances.nlargest(20).plot(kind='barh');"
   ]
  },
  {
   "cell_type": "markdown",
   "id": "02c39939",
   "metadata": {},
   "source": [
    "Amb 6 features arribaríem a prop del 80% del total d'importància. Fixem aquesta dada i comparem el RMSE per contrastar la millora amb aquesta reducció."
   ]
  },
  {
   "cell_type": "code",
   "execution_count": 18,
   "id": "9eb0aac6",
   "metadata": {},
   "outputs": [
    {
     "data": {
      "text/plain": [
       "((457, 6), (197, 6), (457,), (197,))"
      ]
     },
     "execution_count": 18,
     "metadata": {},
     "output_type": "execute_result"
    }
   ],
   "source": [
    "X = jugadors04.loc[:,[\"Peso\",\"Provincia\",\"PS\",\"EF\",\"EI\",\"Min\"]]\n",
    "y = jugadors04[\"Altura\"]\n",
    "\n",
    "# randomly split the data\n",
    "X, test_X, y, test_y = train_test_split(X,y,test_size=0.3,random_state=42)\n",
    "\n",
    "# shape of train and test splits\n",
    "X.shape, test_X.shape, y.shape, test_y.shape"
   ]
  },
  {
   "cell_type": "code",
   "execution_count": 19,
   "id": "7cd6c480",
   "metadata": {},
   "outputs": [
    {
     "name": "stdout",
     "output_type": "stream",
     "text": [
      "RMSE on train data:  1.660670329283194\n",
      "RMSE on test data:  3.690543837014724\n"
     ]
    }
   ],
   "source": [
    "# create an object of the RandomForestRegressor\n",
    "model_RFR = RandomForestRegressor(max_depth=10)\n",
    "\n",
    "# fit the model with the training data\n",
    "model_RFR.fit(X, y)\n",
    "\n",
    "# predict the target on train and test data\n",
    "predict_train = model_RFR.predict(X)\n",
    "predict_test = model_RFR.predict(test_X)\n",
    "\n",
    "# Root Mean Squared Error on train and test data\n",
    "print('RMSE on train data: ', mean_squared_error(y, predict_train)**(0.5))\n",
    "print('RMSE on test data: ',  mean_squared_error(test_y, predict_test)**(0.5))"
   ]
  },
  {
   "cell_type": "markdown",
   "id": "9d7f2f1f",
   "metadata": {},
   "source": [
    "El model amb la reducció de ***features*** puja molt lleugerament el RMSE, així que aprovem el nou dataframe per aplicar-ho en el pipeline (1.624 vs 1.660 en el train, i 3.608 vs 3.690 en el test)."
   ]
  },
  {
   "cell_type": "markdown",
   "id": "64aa615c",
   "metadata": {},
   "source": [
    "**1.5) Identify features to build the Machine Learning pipeline**"
   ]
  },
  {
   "cell_type": "code",
   "execution_count": 20,
   "id": "485c0dcf",
   "metadata": {},
   "outputs": [],
   "source": [
    "jugadors05=jugadors04.loc[:,[\"Altura\",\"Peso\",\"Provincia\",\"PS\",\"EF\",\"EI\",\"Min\"]]"
   ]
  },
  {
   "cell_type": "code",
   "execution_count": 21,
   "id": "b8534725",
   "metadata": {},
   "outputs": [
    {
     "name": "stdout",
     "output_type": "stream",
     "text": [
      "   Altura      Peso  Provincia       PS        EF        EI       Min\n",
      "0   181.0  0.540207  -1.524230  0.02381  0.315789  0.352941  0.000000\n",
      "1   179.0  2.466955  -1.524230  0.02381  0.052632  0.058824  0.001094\n",
      "2   176.0  0.014730  -1.524230  0.00000  0.578947  0.647059  0.006493\n",
      "3   192.0  1.591161   1.476060  0.02381  0.578947  0.647059  0.000875\n",
      "4   173.0 -0.335587   1.680626  0.02381  0.473684  0.529412  0.000802\n",
      "<class 'pandas.core.frame.DataFrame'>\n",
      "RangeIndex: 654 entries, 0 to 653\n",
      "Data columns (total 7 columns):\n",
      " #   Column     Non-Null Count  Dtype  \n",
      "---  ------     --------------  -----  \n",
      " 0   Altura     654 non-null    float64\n",
      " 1   Peso       654 non-null    float64\n",
      " 2   Provincia  654 non-null    float64\n",
      " 3   PS         654 non-null    float64\n",
      " 4   EF         654 non-null    float64\n",
      " 5   EI         654 non-null    float64\n",
      " 6   Min        654 non-null    float64\n",
      "dtypes: float64(7)\n",
      "memory usage: 35.9 KB\n",
      "None\n"
     ]
    }
   ],
   "source": [
    "print(jugadors05.head())\n",
    "print(jugadors05.info())"
   ]
  },
  {
   "cell_type": "markdown",
   "id": "ddf3410d",
   "metadata": {},
   "source": [
    "**2) Pipeline design**\n",
    "\n",
    "Hem identificat els següents passos de preprocessat per crear el nostre model de pipeline:\n",
    "1)Drop columns.\n",
    "2)Transform column (labelencoder).\n",
    "3)Scale data.\n",
    "4)Normalització."
   ]
  },
  {
   "cell_type": "code",
   "execution_count": 22,
   "id": "c0c37610",
   "metadata": {},
   "outputs": [],
   "source": [
    "jugadors = pd.read_csv('//home/rusi/Escritorio/rubenIT/DataSources/jugadores00.csv')#importem i li assignem un nom de dataframe"
   ]
  },
  {
   "cell_type": "code",
   "execution_count": 23,
   "id": "9f1f686a",
   "metadata": {},
   "outputs": [],
   "source": [
    "# seperate the independent and target variables\n",
    "X02 = jugadors.drop(columns=[\"Altura\"])\n",
    "y02 = jugadors[\"Altura\"]"
   ]
  },
  {
   "cell_type": "code",
   "execution_count": 24,
   "id": "f754fcf3",
   "metadata": {},
   "outputs": [],
   "source": [
    "train_x, test_x, train_y, test_y = train_test_split(X02, y02,test_size=0.3,random_state=42)"
   ]
  },
  {
   "cell_type": "code",
   "execution_count": 25,
   "id": "8b90f2d7",
   "metadata": {},
   "outputs": [
    {
     "data": {
      "text/plain": [
       "Pipeline(steps=[('columntransformer',\n",
       "                 ColumnTransformer(transformers=[('drop_columns', 'drop',\n",
       "                                                  ['Apodo', 'Nombre', 'Fecha',\n",
       "                                                   'Ciudad', 'PX', 'PG', 'PE',\n",
       "                                                   'PP', 'G', 'GP', 'GPP', 'GE',\n",
       "                                                   'TA', 'TR', 'Provincia',\n",
       "                                                   'País']),\n",
       "                                                 ('categorical',\n",
       "                                                  Pipeline(steps=[('imputation_constant',\n",
       "                                                                   SimpleImputer(fill_value='missing',\n",
       "                                                                                 strategy='constant')),\n",
       "                                                                  ('ordinal_encoder',\n",
       "                                                                   OrdinalEncoder(handle_...\n",
       "                                                  ['Provincia', 'País']),\n",
       "                                                 ('numerical_standardize',\n",
       "                                                  Pipeline(steps=[('imputation_mean',\n",
       "                                                                   SimpleImputer()),\n",
       "                                                                  ('scaler',\n",
       "                                                                   StandardScaler())]),\n",
       "                                                  ['Peso']),\n",
       "                                                 ('numerical_normalizer',\n",
       "                                                  Pipeline(steps=[('imputation_mean',\n",
       "                                                                   SimpleImputer()),\n",
       "                                                                  ('normalizer',\n",
       "                                                                   Normalizer())]),\n",
       "                                                  ['PS', 'Min', 'EI', 'EF'])])),\n",
       "                ('randomforestregressor',\n",
       "                 RandomForestRegressor(max_depth=10, random_state=42))])"
      ]
     },
     "execution_count": 25,
     "metadata": {},
     "output_type": "execute_result"
    }
   ],
   "source": [
    "numeric_preprocessor = Pipeline(\n",
    "    steps=[\n",
    "        (\"imputation_mean\", SimpleImputer(missing_values=np.nan, strategy=\"mean\")),\n",
    "        (\"scaler\", StandardScaler()),\n",
    "    ]\n",
    ")\n",
    "\n",
    "numeric_preprocessor02 = Pipeline(\n",
    "    steps=[\n",
    "        (\"imputation_mean\", SimpleImputer(missing_values=np.nan, strategy=\"mean\")),\n",
    "        (\"normalizer\", Normalizer()),\n",
    "    ]\n",
    ")\n",
    "\n",
    "categorical_preprocessor = Pipeline(\n",
    "    steps=[\n",
    "        (\n",
    "            \"imputation_constant\",\n",
    "            SimpleImputer(fill_value=\"missing\", strategy=\"constant\"),\n",
    "        ),\n",
    "        (\"ordinal_encoder\", OrdinalEncoder(handle_unknown=\"use_encoded_value\",unknown_value=1000)),\n",
    "        (\"normalitza\",StandardScaler()),\n",
    "    ]\n",
    ")\n",
    "\n",
    "preprocessor = ColumnTransformer(\n",
    "    [\n",
    "        (\"drop_columns\", \"drop\", [\"Apodo\",\"Nombre\",\"Fecha\",\"Ciudad\",\n",
    "                                  \"PX\",\"PG\", \"PE\",\"PP\",\n",
    "                                  \"G\", \"GP\", \"GPP\",\"GE\", \"TA\", \"TR\",\n",
    "                                  \"Provincia\",\"País\"]),\n",
    "        (\"categorical\", categorical_preprocessor, [\"Provincia\",\"País\"]),\n",
    "        (\"numerical_standardize\", numeric_preprocessor, [\"Peso\"]),\n",
    "        (\"numerical_normalizer\", numeric_preprocessor02,[\"PS\",\"Min\",\"EI\", \"EF\"]),\n",
    "    ]\n",
    ")\n",
    "\n",
    "pipe = make_pipeline(preprocessor, RandomForestRegressor(max_depth=10,random_state=42))\n",
    "pipe"
   ]
  },
  {
   "cell_type": "code",
   "execution_count": 26,
   "id": "b4de12cf",
   "metadata": {},
   "outputs": [
    {
     "data": {
      "text/plain": [
       "array([175.70934259, 182.62275806, 184.61037535, 180.46492238,\n",
       "       170.18388473, 181.04930736, 175.30013095, 170.73893078,\n",
       "       170.73826255, 178.22134329, 172.7170088 , 172.96667349,\n",
       "       176.73625134, 182.16222018, 176.70949405, 172.55355411,\n",
       "       171.28748551, 175.18344977, 181.37762616, 171.78751732,\n",
       "       183.39931668, 181.16247835, 181.79668817, 181.33066089,\n",
       "       174.56070859, 175.37616553, 178.7142957 , 185.27348798,\n",
       "       182.16330118, 181.04783697, 181.34951104, 179.71060396,\n",
       "       173.97952544, 180.85123427, 178.48788979, 181.5993148 ,\n",
       "       183.22544473, 174.74031947, 170.66501242, 178.46949287,\n",
       "       169.65351367, 170.53061029, 172.018475  , 188.76316767,\n",
       "       177.00195735, 180.57387038, 181.47389081, 178.38415521,\n",
       "       174.96053548, 177.10657937, 176.16495238, 171.65366041,\n",
       "       171.07559207, 171.02685326, 182.18522598, 169.45631047,\n",
       "       182.65871301, 170.53725973, 175.76928863, 183.95496336,\n",
       "       175.83548135, 177.96691955, 174.41996766, 171.1766132 ,\n",
       "       169.06847222, 181.77740227, 169.62248369, 187.90526399,\n",
       "       180.48785562, 181.20421831, 176.46749331, 175.22691993,\n",
       "       174.07071871, 175.32938395, 177.43276428, 184.34861785,\n",
       "       174.17520599, 178.51552404, 175.07894689, 183.4697094 ,\n",
       "       177.06508308, 171.87961166, 182.1472239 , 180.16039857,\n",
       "       171.16919851, 185.13050979, 169.47788166, 182.4696656 ,\n",
       "       180.52105256, 176.87118235, 188.29472078, 169.95846078,\n",
       "       178.33969122, 183.72580188, 176.5355347 , 184.51028431,\n",
       "       187.93351282, 184.86294514, 170.35129575, 184.85678236,\n",
       "       171.06296413, 180.16670976, 176.9005173 , 181.69344763,\n",
       "       179.62538082, 181.94616793, 184.38561622, 186.23125857,\n",
       "       180.04229917, 169.95613297, 173.65130767, 184.33304477,\n",
       "       176.7964599 , 174.86317835, 181.01827842, 184.57695858,\n",
       "       178.6910504 , 177.94267544, 179.50632988, 188.33526399,\n",
       "       170.88980423, 177.79110949, 182.66744012, 179.811     ,\n",
       "       175.14726626, 175.75420971, 180.65572222, 181.03099767,\n",
       "       174.74295569, 179.61448914, 183.37850509, 183.10208857,\n",
       "       178.4818889 , 175.01620144, 182.45703965, 187.29387191,\n",
       "       175.26125397, 179.82677778, 180.80844372, 176.09262165,\n",
       "       170.21541882, 182.08104202, 179.69972449, 174.11021197,\n",
       "       180.07232937, 177.63708112, 171.62038814, 180.65467322,\n",
       "       171.92103598, 182.74038885, 175.29847646, 173.05831802,\n",
       "       172.09100553, 182.4357135 , 176.43702194, 176.17240629,\n",
       "       179.41633176, 171.70437288, 176.08597554, 170.78820497,\n",
       "       174.00777177, 179.37016667, 173.28406917, 180.66614059,\n",
       "       176.45800619, 175.4774509 , 183.88111812, 170.38698255,\n",
       "       171.23930135, 177.2563169 , 187.33748252, 170.60183886,\n",
       "       178.3435    , 176.89428005, 185.81909363, 176.94138354,\n",
       "       182.39317663, 181.18210509, 175.06751551, 186.44544239,\n",
       "       171.2681509 , 182.44814201, 171.56614286, 169.83255565,\n",
       "       176.48228878, 182.57381867, 184.76933874, 176.03640042,\n",
       "       178.59716247, 170.2688297 , 169.0827544 , 182.05125032,\n",
       "       176.56255556, 176.29161625, 183.97259376, 178.70810726,\n",
       "       182.00939749])"
      ]
     },
     "execution_count": 26,
     "metadata": {},
     "output_type": "execute_result"
    }
   ],
   "source": [
    "# fit the pipeline with the training data\n",
    "pipe.fit(train_x,train_y)\n",
    "# predict target values on the training data\n",
    "pipe.predict(test_x)"
   ]
  },
  {
   "cell_type": "code",
   "execution_count": 27,
   "id": "0970566a",
   "metadata": {},
   "outputs": [],
   "source": [
    "# read the test data\n",
    "test_data = jugadors = pd.read_csv('//home/rusi/Escritorio/rubenIT/DataSources/jugadores00.csv')#importem i li assignem un nom de dataframe\n",
    "predict_test = pipe.predict(test_x)"
   ]
  },
  {
   "cell_type": "code",
   "execution_count": 35,
   "id": "d9c61d83",
   "metadata": {},
   "outputs": [
    {
     "name": "stdout",
     "output_type": "stream",
     "text": [
      "Mitja train_y:  177.50765864332604\n",
      "Mitja test_y:  177.7969543147208\n",
      "Mitja predict_train:  177.5076879073611\n",
      "Mitja predict_test:  177.81352830461853\n",
      "Mitja Altura jugadors:  177.5948012232416\n"
     ]
    }
   ],
   "source": [
    "print(\"Mitja train_y: \",np.mean(train_y))\n",
    "print(\"Mitja test_y: \",np.mean(test_y))\n",
    "print(\"Mitja predict_train: \",np.mean(predict_train))\n",
    "print(\"Mitja predict_test: \",np.mean(predict_test))\n",
    "print(\"Mitja Altura jugadors: \", np.mean(jugadors.Altura))"
   ]
  },
  {
   "cell_type": "code",
   "execution_count": 36,
   "id": "37672b5d",
   "metadata": {},
   "outputs": [
    {
     "name": "stdout",
     "output_type": "stream",
     "text": [
      "RMSE on train data:  2.7631782507651415\n",
      "RMSE on test data:  3.654590587410196\n"
     ]
    }
   ],
   "source": [
    "print('RMSE on train data: ', mean_squared_error(train_y, predict_train)**(0.5))\n",
    "print('RMSE on test data: ', mean_squared_error(test_y, predict_test)**(0.5))"
   ]
  },
  {
   "cell_type": "markdown",
   "id": "129ab845",
   "metadata": {},
   "source": [
    "Com podem veure, el valor \"Altura\" s'apropa molt a la mitjana dels valors d'entrenament i de tota la sèrie, 177.507 vs 177.598 vs 177.595. La predicció amb un 30% de les dades per fer el testeig, dona un valor de 177.853, molt a prop dels valors mitjans. Podem afirmar que el resultat obtingut és força bo en aquest sentit.\n",
    "\n",
    "En quant a l'error RMSE, incrementa notablement en el train (2.763 vs 1.660), i és molt semblant en el test (3.654 vs 3.690). Té la seva lògica, ja que a mesura que hi ha més dades, tindrem més dispersió que fomentarà un increment en el RMSE."
   ]
  },
  {
   "cell_type": "markdown",
   "id": "736c9242",
   "metadata": {},
   "source": [
    "## Grid search\n",
    "\n",
    "*Grid Search Parameter Tuning. Grid search is an approach to parameter tuning that will methodically build and evaluate a model for each combination of algorithm parameters specified in a grid.*"
   ]
  },
  {
   "cell_type": "code",
   "execution_count": 40,
   "id": "1da30427",
   "metadata": {},
   "outputs": [],
   "source": [
    "# Number of trees in random forest\n",
    "n_estimators = [int(x) for x in np.linspace(start = 200, stop = 2000, num = 10)]\n",
    "# Number of features to consider at every split\n",
    "max_features = ['auto', 'sqrt']\n",
    "# Maximum number of levels in tree\n",
    "max_depth = [int(x) for x in np.linspace(10, 110, num = 11)]\n",
    "max_depth.append(None)\n",
    "# Minimum number of samples required to split a node\n",
    "min_samples_split = [2, 5, 10]\n",
    "# Minimum number of samples required at each leaf node\n",
    "min_samples_leaf = [1, 2, 4]\n",
    "# Method of selecting samples for training each tree\n",
    "bootstrap = [True, False]\n",
    "# Create the random grid\n",
    "random_grid = {'randomforestregressor__n_estimators': n_estimators,\n",
    "               'randomforestregressor__max_features': max_features,\n",
    "               'randomforestregressor__max_depth': max_depth,\n",
    "               'randomforestregressor__min_samples_split': min_samples_split,\n",
    "               'randomforestregressor__min_samples_leaf': min_samples_leaf,\n",
    "               'randomforestregressor__bootstrap': bootstrap}"
   ]
  },
  {
   "cell_type": "code",
   "execution_count": 41,
   "id": "d5dcf2c5",
   "metadata": {},
   "outputs": [],
   "source": [
    "# Use the random grid to search for best hyperparameters\n",
    "# First create the base model to tune\n",
    "rf = RandomForestRegressor()\n",
    "# Random search of parameters, using 3 fold cross validation, \n",
    "# search across 100 different combinations, and use all available cores\n",
    "rf_random = RandomizedSearchCV(estimator = pipe, param_distributions = random_grid, \n",
    "                               n_iter = 30, cv = 3,random_state=42, n_jobs = -1)"
   ]
  },
  {
   "cell_type": "code",
   "execution_count": 42,
   "id": "d4b4d504",
   "metadata": {},
   "outputs": [
    {
     "data": {
      "text/plain": [
       "RandomizedSearchCV(cv=3,\n",
       "                   estimator=Pipeline(steps=[('columntransformer',\n",
       "                                              ColumnTransformer(transformers=[('drop_columns',\n",
       "                                                                               'drop',\n",
       "                                                                               ['Apodo',\n",
       "                                                                                'Nombre',\n",
       "                                                                                'Fecha',\n",
       "                                                                                'Ciudad',\n",
       "                                                                                'PX',\n",
       "                                                                                'PG',\n",
       "                                                                                'PE',\n",
       "                                                                                'PP',\n",
       "                                                                                'G',\n",
       "                                                                                'GP',\n",
       "                                                                                'GPP',\n",
       "                                                                                'GE',\n",
       "                                                                                'TA',\n",
       "                                                                                'TR',\n",
       "                                                                                'Provincia',\n",
       "                                                                                'País']),\n",
       "                                                                              ('categorical',\n",
       "                                                                               Pipeline(steps=[('imputation_constant',\n",
       "                                                                                                SimpleImputer(fill_value='missing',\n",
       "                                                                                                              strategy='constant')),\n",
       "                                                                                               ('ordin...\n",
       "                   param_distributions={'randomforestregressor__bootstrap': [True,\n",
       "                                                                             False],\n",
       "                                        'randomforestregressor__max_depth': [10,\n",
       "                                                                             20,\n",
       "                                                                             30,\n",
       "                                                                             40,\n",
       "                                                                             50,\n",
       "                                                                             60,\n",
       "                                                                             70,\n",
       "                                                                             80,\n",
       "                                                                             90,\n",
       "                                                                             100,\n",
       "                                                                             110,\n",
       "                                                                             None],\n",
       "                                        'randomforestregressor__max_features': ['auto',\n",
       "                                                                                'sqrt'],\n",
       "                                        'randomforestregressor__min_samples_leaf': [1,\n",
       "                                                                                    2,\n",
       "                                                                                    4],\n",
       "                                        'randomforestregressor__min_samples_split': [2,\n",
       "                                                                                     5,\n",
       "                                                                                     10],\n",
       "                                        'randomforestregressor__n_estimators': [200,\n",
       "                                                                                400,\n",
       "                                                                                600,\n",
       "                                                                                800,\n",
       "                                                                                1000,\n",
       "                                                                                1200,\n",
       "                                                                                1400,\n",
       "                                                                                1600,\n",
       "                                                                                1800,\n",
       "                                                                                2000]},\n",
       "                   random_state=42)"
      ]
     },
     "execution_count": 42,
     "metadata": {},
     "output_type": "execute_result"
    }
   ],
   "source": [
    "rf_random.fit(train_x, train_y)"
   ]
  },
  {
   "cell_type": "code",
   "execution_count": 43,
   "id": "75893329",
   "metadata": {},
   "outputs": [
    {
     "data": {
      "text/plain": [
       "{'randomforestregressor__n_estimators': 1800,\n",
       " 'randomforestregressor__min_samples_split': 10,\n",
       " 'randomforestregressor__min_samples_leaf': 4,\n",
       " 'randomforestregressor__max_features': 'auto',\n",
       " 'randomforestregressor__max_depth': 90,\n",
       " 'randomforestregressor__bootstrap': True}"
      ]
     },
     "execution_count": 43,
     "metadata": {},
     "output_type": "execute_result"
    }
   ],
   "source": [
    "rf_random.best_params_"
   ]
  },
  {
   "cell_type": "code",
   "execution_count": 44,
   "id": "b88cd1f4",
   "metadata": {},
   "outputs": [
    {
     "name": "stdout",
     "output_type": "stream",
     "text": [
      "RMSE on train data:  2.7631782507651415\n",
      "RMSE on test data:  3.654590587410196\n"
     ]
    }
   ],
   "source": [
    "# Best estimator\n",
    "best_random = rf_random.best_estimator_\n",
    "\n",
    "#Predictions\n",
    "predict_train = best_random.predict(train_x)\n",
    "predict_test = best_random.predict(test_x)\n",
    "\n",
    "# Root Mean Squared Error on train data\n",
    "print('RMSE on train data: ', mean_squared_error(train_y, predict_train)**(0.5))\n",
    "print('RMSE on test data: ', mean_squared_error(test_y, predict_test)**(0.5))"
   ]
  },
  {
   "cell_type": "markdown",
   "id": "2e47fccc",
   "metadata": {},
   "source": [
    "L'error RMSE es manté en el mateix valor. Això podria ser degut a què les mostres són escasses, i que no té sentit aplicar una millora d'aquest tipus."
   ]
  },
  {
   "cell_type": "markdown",
   "id": "a6884af1",
   "metadata": {},
   "source": [
    "## Exercici 2. Agafa un text en anglès que vulguis, i calcula'n la freqüència de les paraules"
   ]
  },
  {
   "cell_type": "markdown",
   "id": "4514c841",
   "metadata": {},
   "source": [
    "De la següent pàgina web, descarreguem un capítol del llibre de Jane Austin \"Sense and Sensibility\":\n",
    "\n",
    "https://www.fulltextarchive.com/"
   ]
  },
  {
   "cell_type": "code",
   "execution_count": 45,
   "id": "ddd1f5f6",
   "metadata": {},
   "outputs": [],
   "source": [
    "# Llegir llibre\n",
    "book_file = open('//home/rusi/Escritorio/rubenIT/DataSources/sense_and_sensibility.txt', \"r\")\n",
    "book = book_file.read()"
   ]
  },
  {
   "cell_type": "code",
   "execution_count": 65,
   "id": "b76e644d",
   "metadata": {},
   "outputs": [
    {
     "data": {
      "image/png": "[encoded data removed]",
      "text/plain": [
       "<Figure size 1080x720 with 1 Axes>"
      ]
     },
     "metadata": {
      "needs_background": "light"
     },
     "output_type": "display_data"
    }
   ],
   "source": [
    "# Word freq\n",
    "tokenized_book = word_tokenize(book)\n",
    "# Remove punctuation\n",
    "tokenized_book= [word for word in tokenized_book if word.isalnum()]\n",
    "# Freq\n",
    "fdist = FreqDist(tokenized_book)\n",
    "# 30 most common words\n",
    "fig, ax1 = plt.subplots(figsize = (15, 10))\n",
    "fdist.plot(30,cumulative=False,\n",
    "           title=\"30 most often words in Jane Austin's -- Sense and Sensibility\")\n",
    "plt.show()"
   ]
  },
  {
   "cell_type": "markdown",
   "id": "d37999ec",
   "metadata": {},
   "source": [
    "## Exercici 3. Treu les stopwords i realitza stemming al teu conjunt de dades."
   ]
  },
  {
   "cell_type": "code",
   "execution_count": 75,
   "id": "7c7b8a18",
   "metadata": {},
   "outputs": [
    {
     "data": {
      "image/png": "[encoded data removed]",
      "text/plain": [
       "<Figure size 1080x720 with 1 Axes>"
      ]
     },
     "metadata": {
      "needs_background": "light"
     },
     "output_type": "display_data"
    }
   ],
   "source": [
    "# Stop words list\n",
    "stop_words=set(stopwords.words(\"english\"))\n",
    "\n",
    "# Filter\n",
    "filtered_book=[]\n",
    "for w in tokenized_book:\n",
    "    if w not in stop_words:\n",
    "        filtered_book.append(w)\n",
    "\n",
    "# Word freq\n",
    "fdist = FreqDist(filtered_book)\n",
    "\n",
    "# 30 most common words\n",
    "fig, ax1 = plt.subplots(figsize = (15, 10))\n",
    "fdist.plot(30,cumulative=False,title=\"Top 30 stop words in Jane Austin's -- Sense and Sensibility\")\n",
    "plt.show()"
   ]
  },
  {
   "cell_type": "code",
   "execution_count": 74,
   "id": "39f6b68f",
   "metadata": {},
   "outputs": [
    {
     "data": {
      "image/png": "[encoded data removed]",
      "text/plain": [
       "<Figure size 1080x720 with 1 Axes>"
      ]
     },
     "metadata": {
      "needs_background": "light"
     },
     "output_type": "display_data"
    }
   ],
   "source": [
    "# Stemming\n",
    "ps = PorterStemmer()\n",
    "\n",
    "stemmed_book=[]\n",
    "for w in filtered_book:\n",
    "    stemmed_book.append(ps.stem(w))\n",
    "\n",
    "# Word freq\n",
    "fdist = FreqDist(stemmed_book)\n",
    "\n",
    "# 30 most common words\n",
    "fig, ax1 = plt.subplots(figsize = (15, 10))\n",
    "fdist.plot(30,cumulative=False,title=\"Top 30 stemmed words in Jane Austin's -- Sense and Sensibility\")\n",
    "plt.show()"
   ]
  },
  {
   "cell_type": "markdown",
   "id": "ec214186",
   "metadata": {},
   "source": [
    "## Exercici 3. Realitza sentiment analysis al teu conjunt de dades"
   ]
  },
  {
   "cell_type": "markdown",
   "id": "a86de56e",
   "metadata": {},
   "source": [
    "**Sentiment Analysis**\n",
    "\n",
    "*The sentiment property returns a namedtuple of the form Sentiment(polarity, subjectivity). The polarity score is a float within the range [-1.0, 1.0]. The subjectivity is a float within the range [0.0, 1.0] where 0.0 is very objective and 1.0 is very subjective.*"
   ]
  },
  {
   "cell_type": "code",
   "execution_count": 79,
   "id": "ada86543",
   "metadata": {},
   "outputs": [
    {
     "data": {
      "text/plain": [
       "Sentiment(polarity=0.15604552058239224, subjectivity=0.535295224185392)"
      ]
     },
     "execution_count": 79,
     "metadata": {},
     "output_type": "execute_result"
    }
   ],
   "source": [
    "# Polarity of the text\n",
    "book_sent = TextBlob(book)\n",
    "book_sent.sentiment"
   ]
  },
  {
   "cell_type": "markdown",
   "id": "9cbc5cb6",
   "metadata": {},
   "source": [
    "Com es tracta d'una novel·la, la quantitat de paraules emprades són molt variades, i no demostren una inclinació cap a una determinada sensació o sentiment. Per aquest motiu els paràmteres de neutralitat i subjectivitat es troben en un punt intermig."
   ]
  },
  {
   "cell_type": "code",
   "execution_count": null,
   "id": "e17d3522",
   "metadata": {},
   "outputs": [],
   "source": []
  }
 ],
 "metadata": {
  "kernelspec": {
   "display_name": "Python 3 (ipykernel)",
   "language": "python",
   "name": "python3"
  },
  "language_info": {
   "codemirror_mode": {
    "name": "ipython",
    "version": 3
   },
   "file_extension": ".py",
   "mimetype": "text/x-python",
   "name": "python",
   "nbconvert_exporter": "python",
   "pygments_lexer": "ipython3",
   "version": "3.9.7"
  }
 },
 "nbformat": 4,
 "nbformat_minor": 5
}
